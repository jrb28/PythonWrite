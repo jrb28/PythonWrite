{
 "cells": [
  {
   "cell_type": "markdown",
   "metadata": {},
   "source": [
    "# Writing to Files with Python\n",
    "\n",
    "We have dealt extensively with the Python <font face='courier'>open('','r')</font> statement and, mainly, using the <font face='courier'>readlines()</font> method for inputting data.\n",
    "\n",
    "We can open a file for writing using this statement,\n",
    "\n",
    "<font face='courier'>f = open('test.csv','w')</font>\n",
    "\n",
    "The <font face='courier'> 'w'</font> parameter causes any exising file of the name specified in the first paramter to be erased.  (Beware!!!)  Alternately, we can append to a file using the <font face='courier'>'a'</font> parameter:\n",
    "\n",
    "<font face='courier'>f = open('test.csv','a')</font>\n",
    "\n",
    "Once a file is opened in either of the modes above, the variable <font face='courier'>f</font> provides the means for writing to the file using this command:\n",
    "\n",
    "<font face='courier'>f.write(string_to_write)</font>\n",
    "\n",
    "where <font face='courier'>string_to_write</font> is string that can be presented to the write function by means of a <font face='courier'>string</font> variable, an explicit string written between quotation marks, or a concatenation of multiple string values using the <font face='courier'>+</font> operator. Only one such argument can be placed within the parentheses and it must be of the <font face='courier'>string</font> data type.\n",
    "\n",
    "After writing is complete the filestream <font face='courier'>f</font> must be closed\n",
    "\n",
    "<font face='courier'>f.close()</font>\n",
    "    \n",
    "or the file will have none of what was written to it.  That is, the <font face='courier'>close()</font> statement causes all of the written string values to be 'flushed' to the text file.\n",
    "\n",
    "Let's try some simple examples.  Execute the cells below to see what happens.  The files will appear in the same folder as this Jupyter notebook."
   ]
  },
  {
   "cell_type": "code",
   "execution_count": 4,
   "metadata": {},
   "outputs": [],
   "source": [
    "''' Create a new text file, possibly erasing a file with the specified name '''\n",
    "f = open('new_file.txt','w')\n",
    "f.write('This is a new file.  An old file may have been over-written.')\n",
    "f.close()"
   ]
  },
  {
   "cell_type": "code",
   "execution_count": 3,
   "metadata": {},
   "outputs": [],
   "source": [
    "''' Append to an existing file '''\n",
    "f = open('append_file.txt','a')\n",
    "f.write('Appending to this file.  You may see multiple lines like this that were previously added.\\n')\n",
    "f.close()"
   ]
  },
  {
   "cell_type": "markdown",
   "metadata": {},
   "source": [
    "## A <font face='courier'>\\n</font> Character is Needed to Create a New Line\n",
    "\n",
    "Unlike <font face='courier'>print()</font> statements whose default is to append a newline character, <font face='courier'>\\n</font> onto whatever is printed, using <font face='courier'>f.write()</font> requires that an explicit <font face='courier'>'\\n'</font> be included in the written string to create a newline.\n",
    "\n",
    "Compare the output created by the two cells below."
   ]
  },
  {
   "cell_type": "code",
   "execution_count": 5,
   "metadata": {},
   "outputs": [],
   "source": [
    "f = open('write_10.txt','w')\n",
    "for i in range(10):\n",
    "    f.write(str(i))\n",
    "f.close()"
   ]
  },
  {
   "cell_type": "code",
   "execution_count": 6,
   "metadata": {},
   "outputs": [],
   "source": [
    "f = open('write_10_nl.txt','w')\n",
    "for i in range(10):\n",
    "    f.write(str(i)+'\\n')\n",
    "f.close()"
   ]
  },
  {
   "cell_type": "markdown",
   "metadata": {},
   "source": [
    "## Writing to Another File Folder\n",
    "\n",
    "A file can be written to a file folder other than the current folder by providing an absolute or relative path.\n",
    "\n",
    "It is impossible to write a hard-coded absolute path (one starting from the root directory and explicitly referencing each subfolder), because every computer has a different hierarchical structure for its folders.  However, almost everybody does have a <font face='courier'>C:\\Users</font> and so that example will be used below.  That said, the write may fail due to this being a protected folder unless you run Jupyter <font face='courier'>As An Administrator</font>."
   ]
  },
  {
   "cell_type": "code",
   "execution_count": 10,
   "metadata": {},
   "outputs": [
    {
     "ename": "PermissionError",
     "evalue": "[Errno 13] Permission denied: 'N:/Users/hello.txt'",
     "output_type": "error",
     "traceback": [
      "\u001b[1;31m---------------------------------------------------------------------------\u001b[0m",
      "\u001b[1;31mPermissionError\u001b[0m                           Traceback (most recent call last)",
      "\u001b[1;32m<ipython-input-10-69b04aed3595>\u001b[0m in \u001b[0;36m<module>\u001b[1;34m\u001b[0m\n\u001b[1;32m----> 1\u001b[1;33m \u001b[0mf\u001b[0m \u001b[1;33m=\u001b[0m \u001b[0mopen\u001b[0m\u001b[1;33m(\u001b[0m\u001b[1;34m'N:/Users/hello.txt'\u001b[0m\u001b[1;33m,\u001b[0m\u001b[1;34m'w'\u001b[0m\u001b[1;33m)\u001b[0m\u001b[1;33m\u001b[0m\u001b[1;33m\u001b[0m\u001b[0m\n\u001b[0m\u001b[0;32m      2\u001b[0m \u001b[0mf\u001b[0m\u001b[1;33m.\u001b[0m\u001b[0mwrite\u001b[0m\u001b[1;33m(\u001b[0m\u001b[1;34m'Hello from PythonWriting2File.ipynb'\u001b[0m\u001b[1;33m)\u001b[0m\u001b[1;33m\u001b[0m\u001b[1;33m\u001b[0m\u001b[0m\n\u001b[0;32m      3\u001b[0m \u001b[0mf\u001b[0m\u001b[1;33m.\u001b[0m\u001b[0mclose\u001b[0m\u001b[1;33m(\u001b[0m\u001b[1;33m)\u001b[0m\u001b[1;33m\u001b[0m\u001b[1;33m\u001b[0m\u001b[0m\n",
      "\u001b[1;31mPermissionError\u001b[0m: [Errno 13] Permission denied: 'N:/Users/hello.txt'"
     ]
    }
   ],
   "source": [
    "f = open('C:/Users/hello.txt','w')\n",
    "f.write('Hello from PythonWriting2File.ipynb')\n",
    "f.close()"
   ]
  },
  {
   "cell_type": "markdown",
   "metadata": {},
   "source": [
    "A relative path can be designated relative to the path in which this Jupyter notebook resides.  the first cell writes to the parent folder using <font face='courier'>..</font> "
   ]
  },
  {
   "cell_type": "code",
   "execution_count": null,
   "metadata": {},
   "outputs": [],
   "source": [
    "f = open('../hello_from_jup.txt','w')\n",
    "f.write('Hello form the /jup folder.')\n",
    "f.close()"
   ]
  },
  {
   "cell_type": "markdown",
   "metadata": {},
   "source": [
    "The next cell writes to a child folder name <font face='courier'>jup_child</font>, whcih is a child of the folder in which this Jupyter notebook resides."
   ]
  },
  {
   "cell_type": "code",
   "execution_count": null,
   "metadata": {},
   "outputs": [],
   "source": [
    "f = open('jup_child/hello_from_jup.txt','w')\n",
    "f.write('Hello from the /jup folder.')\n",
    "f.close()"
   ]
  },
  {
   "cell_type": "markdown",
   "metadata": {},
   "source": [
    "## Writing Different Data Types & Multiple Data to File\n",
    "\n",
    "Numerical data, lists, tuples, and any other non-string data must be converted to a string before it is written to file with <font face='courier'>f.write()</font>"
   ]
  },
  {
   "cell_type": "code",
   "execution_count": null,
   "metadata": {},
   "outputs": [],
   "source": [
    "my_int = 10\n",
    "my_float = 3.14159\n",
    "my_list = [0, 1, 2, 3, 4]\n",
    "\n",
    "f = open('write_numbers.txt','w')\n",
    "f.write(str(my_int)+ '\\n')\n",
    "f.write(str(my_float)+ '\\n')\n",
    "for i in range(len(my_list)):\n",
    "    f.write(str(my_list[i])+ '\\n')\n",
    "f.write(str(my_list))\n",
    "f.close()"
   ]
  },
  {
   "cell_type": "markdown",
   "metadata": {},
   "source": [
    "Using a <font face='courier'>for</font> loop or printing the entire list as a string are not the only ways to write a list, as we shall see."
   ]
  },
  {
   "cell_type": "markdown",
   "metadata": {},
   "source": [
    "Multiple sting values can be concatenated using <font face='courier'>+</font>.  Figure out what each of the string components does in the concatenated string value within the <font face='courier'>f.write()</font> statement."
   ]
  },
  {
   "cell_type": "code",
   "execution_count": null,
   "metadata": {},
   "outputs": [],
   "source": [
    "import random\n",
    "f = open('rvs.txt','w')\n",
    "rvs = [random.random() for i in range(5)]\n",
    "for i in range(len(rvs)):\n",
    "    f.write('Random variable ' + str(i) + ': ' + str(rvs[i]) + '\\n')\n",
    "f.close()"
   ]
  },
  {
   "cell_type": "markdown",
   "metadata": {},
   "source": [
    "## Creating CSV Files Using <font face='courier'>','.join()</font>\n",
    "\n",
    "Any string can be used to join string elements from a list or other iterable data structure (e.g., tuples).  The <font face='courier'>.join()</font> method is place between each of the multiple elements of the list (or other iterable data type).  the elements in the iterable must, however, be of the <font face='courier'>list</font> data type."
   ]
  },
  {
   "cell_type": "code",
   "execution_count": 1,
   "metadata": {},
   "outputs": [
    {
     "data": {
      "text/plain": [
       "'0,1,2,3,4'"
      ]
     },
     "execution_count": 1,
     "metadata": {},
     "output_type": "execute_result"
    }
   ],
   "source": [
    "my_string_list = [str(i) for i in range(5)]\n",
    "','.join(my_string_list)"
   ]
  },
  {
   "cell_type": "code",
   "execution_count": null,
   "metadata": {},
   "outputs": [],
   "source": [
    "f = open('my_string_list.csv','w')\n",
    "f.write(','.join(my_string_list))\n",
    "f.close()"
   ]
  },
  {
   "cell_type": "code",
   "execution_count": null,
   "metadata": {},
   "outputs": [],
   "source": []
  }
 ],
 "metadata": {
  "kernelspec": {
   "display_name": "Python 3",
   "language": "python",
   "name": "python3"
  },
  "language_info": {
   "codemirror_mode": {
    "name": "ipython",
    "version": 3
   },
   "file_extension": ".py",
   "mimetype": "text/x-python",
   "name": "python",
   "nbconvert_exporter": "python",
   "pygments_lexer": "ipython3",
   "version": "3.7.6"
  }
 },
 "nbformat": 4,
 "nbformat_minor": 4
}
